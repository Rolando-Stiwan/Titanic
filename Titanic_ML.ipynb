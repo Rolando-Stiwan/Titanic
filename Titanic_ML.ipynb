{
 "cells": [
  {
   "cell_type": "code",
   "execution_count": 1,
   "id": "bcaa6f03",
   "metadata": {},
   "outputs": [],
   "source": [
    "import numpy as np\n",
    "import pandas as pd\n",
    "import seaborn as sns\n",
    "import matplotlib.pyplot as plt\n",
    "\n",
    "from sklearn.linear_model import LogisticRegression, SGDClassifier\n",
    "from sklearn.svm import SVC\n",
    "from sklearn.ensemble import RandomForestClassifier, VotingClassifier\n",
    "import xgboost as xgb\n",
    "from xgboost import DMatrix\n",
    "from sklearn.model_selection import GridSearchCV, KFold, cross_val_score\n",
    "from sklearn.preprocessing import StandardScaler\n",
    "from sklearn.metrics import accuracy_score\n",
    "import hyperopt\n",
    "from hyperopt import fmin, tpe, hp"
   ]
  },
  {
   "cell_type": "code",
   "execution_count": 2,
   "id": "9b3d17de",
   "metadata": {},
   "outputs": [
    {
     "data": {
      "text/html": [
       "<div>\n",
       "<style scoped>\n",
       "    .dataframe tbody tr th:only-of-type {\n",
       "        vertical-align: middle;\n",
       "    }\n",
       "\n",
       "    .dataframe tbody tr th {\n",
       "        vertical-align: top;\n",
       "    }\n",
       "\n",
       "    .dataframe thead th {\n",
       "        text-align: right;\n",
       "    }\n",
       "</style>\n",
       "<table border=\"1\" class=\"dataframe\">\n",
       "  <thead>\n",
       "    <tr style=\"text-align: right;\">\n",
       "      <th></th>\n",
       "      <th>PassengerId</th>\n",
       "      <th>Survived</th>\n",
       "      <th>Pclass</th>\n",
       "      <th>Name</th>\n",
       "      <th>Sex</th>\n",
       "      <th>Age</th>\n",
       "      <th>SibSp</th>\n",
       "      <th>Parch</th>\n",
       "      <th>Ticket</th>\n",
       "      <th>Fare</th>\n",
       "      <th>Cabin</th>\n",
       "      <th>Embarked</th>\n",
       "    </tr>\n",
       "  </thead>\n",
       "  <tbody>\n",
       "    <tr>\n",
       "      <th>0</th>\n",
       "      <td>1</td>\n",
       "      <td>0</td>\n",
       "      <td>3</td>\n",
       "      <td>Braund, Mr. Owen Harris</td>\n",
       "      <td>male</td>\n",
       "      <td>22.0</td>\n",
       "      <td>1</td>\n",
       "      <td>0</td>\n",
       "      <td>A/5 21171</td>\n",
       "      <td>7.2500</td>\n",
       "      <td>NaN</td>\n",
       "      <td>S</td>\n",
       "    </tr>\n",
       "    <tr>\n",
       "      <th>1</th>\n",
       "      <td>2</td>\n",
       "      <td>1</td>\n",
       "      <td>1</td>\n",
       "      <td>Cumings, Mrs. John Bradley (Florence Briggs Th...</td>\n",
       "      <td>female</td>\n",
       "      <td>38.0</td>\n",
       "      <td>1</td>\n",
       "      <td>0</td>\n",
       "      <td>PC 17599</td>\n",
       "      <td>71.2833</td>\n",
       "      <td>C85</td>\n",
       "      <td>C</td>\n",
       "    </tr>\n",
       "    <tr>\n",
       "      <th>2</th>\n",
       "      <td>3</td>\n",
       "      <td>1</td>\n",
       "      <td>3</td>\n",
       "      <td>Heikkinen, Miss. Laina</td>\n",
       "      <td>female</td>\n",
       "      <td>26.0</td>\n",
       "      <td>0</td>\n",
       "      <td>0</td>\n",
       "      <td>STON/O2. 3101282</td>\n",
       "      <td>7.9250</td>\n",
       "      <td>NaN</td>\n",
       "      <td>S</td>\n",
       "    </tr>\n",
       "    <tr>\n",
       "      <th>3</th>\n",
       "      <td>4</td>\n",
       "      <td>1</td>\n",
       "      <td>1</td>\n",
       "      <td>Futrelle, Mrs. Jacques Heath (Lily May Peel)</td>\n",
       "      <td>female</td>\n",
       "      <td>35.0</td>\n",
       "      <td>1</td>\n",
       "      <td>0</td>\n",
       "      <td>113803</td>\n",
       "      <td>53.1000</td>\n",
       "      <td>C123</td>\n",
       "      <td>S</td>\n",
       "    </tr>\n",
       "    <tr>\n",
       "      <th>4</th>\n",
       "      <td>5</td>\n",
       "      <td>0</td>\n",
       "      <td>3</td>\n",
       "      <td>Allen, Mr. William Henry</td>\n",
       "      <td>male</td>\n",
       "      <td>35.0</td>\n",
       "      <td>0</td>\n",
       "      <td>0</td>\n",
       "      <td>373450</td>\n",
       "      <td>8.0500</td>\n",
       "      <td>NaN</td>\n",
       "      <td>S</td>\n",
       "    </tr>\n",
       "  </tbody>\n",
       "</table>\n",
       "</div>"
      ],
      "text/plain": [
       "   PassengerId  Survived  Pclass  \\\n",
       "0            1         0       3   \n",
       "1            2         1       1   \n",
       "2            3         1       3   \n",
       "3            4         1       1   \n",
       "4            5         0       3   \n",
       "\n",
       "                                                Name     Sex   Age  SibSp  \\\n",
       "0                            Braund, Mr. Owen Harris    male  22.0      1   \n",
       "1  Cumings, Mrs. John Bradley (Florence Briggs Th...  female  38.0      1   \n",
       "2                             Heikkinen, Miss. Laina  female  26.0      0   \n",
       "3       Futrelle, Mrs. Jacques Heath (Lily May Peel)  female  35.0      1   \n",
       "4                           Allen, Mr. William Henry    male  35.0      0   \n",
       "\n",
       "   Parch            Ticket     Fare Cabin Embarked  \n",
       "0      0         A/5 21171   7.2500   NaN        S  \n",
       "1      0          PC 17599  71.2833   C85        C  \n",
       "2      0  STON/O2. 3101282   7.9250   NaN        S  \n",
       "3      0            113803  53.1000  C123        S  \n",
       "4      0            373450   8.0500   NaN        S  "
      ]
     },
     "execution_count": 2,
     "metadata": {},
     "output_type": "execute_result"
    }
   ],
   "source": [
    "train = pd.read_csv(\"D:\\\\Kaggle\\\\titanic\\\\train.csv\")\n",
    "test = pd.read_csv(\"D:\\\\Kaggle\\\\titanic\\\\test.csv\")\n",
    "train.head()"
   ]
  },
  {
   "cell_type": "markdown",
   "id": "101863b7",
   "metadata": {},
   "source": [
    "## Preprocesamiento train\n",
    "\n",
    "#### Aqui se imputan los valores faltantes,  se agrupan las variables numerias, se codifica las variables categoricas. Se borran algunas columnas"
   ]
  },
  {
   "cell_type": "code",
   "execution_count": 3,
   "id": "33833ee8",
   "metadata": {},
   "outputs": [
    {
     "data": {
      "text/html": [
       "<div>\n",
       "<style scoped>\n",
       "    .dataframe tbody tr th:only-of-type {\n",
       "        vertical-align: middle;\n",
       "    }\n",
       "\n",
       "    .dataframe tbody tr th {\n",
       "        vertical-align: top;\n",
       "    }\n",
       "\n",
       "    .dataframe thead th {\n",
       "        text-align: right;\n",
       "    }\n",
       "</style>\n",
       "<table border=\"1\" class=\"dataframe\">\n",
       "  <thead>\n",
       "    <tr style=\"text-align: right;\">\n",
       "      <th></th>\n",
       "      <th>PassengerId</th>\n",
       "      <th>Survived</th>\n",
       "      <th>Pclass</th>\n",
       "      <th>SibSp</th>\n",
       "      <th>Parch</th>\n",
       "      <th>Age_group</th>\n",
       "      <th>Sex_female</th>\n",
       "      <th>Sex_male</th>\n",
       "    </tr>\n",
       "  </thead>\n",
       "  <tbody>\n",
       "    <tr>\n",
       "      <th>0</th>\n",
       "      <td>1</td>\n",
       "      <td>0</td>\n",
       "      <td>3</td>\n",
       "      <td>1</td>\n",
       "      <td>0</td>\n",
       "      <td>2</td>\n",
       "      <td>0</td>\n",
       "      <td>1</td>\n",
       "    </tr>\n",
       "    <tr>\n",
       "      <th>1</th>\n",
       "      <td>2</td>\n",
       "      <td>1</td>\n",
       "      <td>1</td>\n",
       "      <td>1</td>\n",
       "      <td>0</td>\n",
       "      <td>2</td>\n",
       "      <td>1</td>\n",
       "      <td>0</td>\n",
       "    </tr>\n",
       "    <tr>\n",
       "      <th>2</th>\n",
       "      <td>3</td>\n",
       "      <td>1</td>\n",
       "      <td>3</td>\n",
       "      <td>0</td>\n",
       "      <td>0</td>\n",
       "      <td>2</td>\n",
       "      <td>1</td>\n",
       "      <td>0</td>\n",
       "    </tr>\n",
       "    <tr>\n",
       "      <th>3</th>\n",
       "      <td>4</td>\n",
       "      <td>1</td>\n",
       "      <td>1</td>\n",
       "      <td>1</td>\n",
       "      <td>0</td>\n",
       "      <td>2</td>\n",
       "      <td>1</td>\n",
       "      <td>0</td>\n",
       "    </tr>\n",
       "    <tr>\n",
       "      <th>4</th>\n",
       "      <td>5</td>\n",
       "      <td>0</td>\n",
       "      <td>3</td>\n",
       "      <td>0</td>\n",
       "      <td>0</td>\n",
       "      <td>2</td>\n",
       "      <td>0</td>\n",
       "      <td>1</td>\n",
       "    </tr>\n",
       "  </tbody>\n",
       "</table>\n",
       "</div>"
      ],
      "text/plain": [
       "   PassengerId  Survived  Pclass  SibSp  Parch Age_group  Sex_female  Sex_male\n",
       "0            1         0       3      1      0         2           0         1\n",
       "1            2         1       1      1      0         2           1         0\n",
       "2            3         1       3      0      0         2           1         0\n",
       "3            4         1       1      1      0         2           1         0\n",
       "4            5         0       3      0      0         2           0         1"
      ]
     },
     "execution_count": 3,
     "metadata": {},
     "output_type": "execute_result"
    }
   ],
   "source": [
    "train['Age'] = train['Age'].fillna(round(train['Age'].mean()))\n",
    "train['Age_group'] = pd.cut(train['Age'], bins=[0, 20, 40, 60, 80], labels=[1, 2, 3, 4])\n",
    "train = pd.get_dummies(train, columns=['Sex'])\n",
    "columna = ['Name', 'Age', 'Ticket', 'Fare', 'Cabin', 'Embarked']\n",
    "train_1 = train.drop(columns=columna)\n",
    "train_1.head()"
   ]
  },
  {
   "cell_type": "code",
   "execution_count": 4,
   "id": "d724991d",
   "metadata": {},
   "outputs": [
    {
     "data": {
      "image/png": "[encoded data removed]",
      "text/plain": [
       "<Figure size 640x480 with 2 Axes>"
      ]
     },
     "metadata": {},
     "output_type": "display_data"
    }
   ],
   "source": [
    "# Observando las correlaciones entre caracteristicas\n",
    "sns.heatmap(train_1.corr(), cmap='YlGnBu', annot=True)\n",
    "plt.show()"
   ]
  },
  {
   "cell_type": "markdown",
   "id": "e0a12a36",
   "metadata": {},
   "source": [
    "## Preprocesamiento test\n",
    "#### Aqui se imputan los valores faltantes,  se agrupan las variables numerias, se codifica las variables categoricas. Se borran algunas columnas y se escalan las demas caracteristicas "
   ]
  },
  {
   "cell_type": "code",
   "execution_count": 5,
   "id": "ba41801c",
   "metadata": {},
   "outputs": [
    {
     "data": {
      "text/html": [
       "<div>\n",
       "<style scoped>\n",
       "    .dataframe tbody tr th:only-of-type {\n",
       "        vertical-align: middle;\n",
       "    }\n",
       "\n",
       "    .dataframe tbody tr th {\n",
       "        vertical-align: top;\n",
       "    }\n",
       "\n",
       "    .dataframe thead th {\n",
       "        text-align: right;\n",
       "    }\n",
       "</style>\n",
       "<table border=\"1\" class=\"dataframe\">\n",
       "  <thead>\n",
       "    <tr style=\"text-align: right;\">\n",
       "      <th></th>\n",
       "      <th>Pclass</th>\n",
       "      <th>SibSp</th>\n",
       "      <th>Parch</th>\n",
       "      <th>Age_group</th>\n",
       "      <th>Sex_female</th>\n",
       "      <th>Sex_male</th>\n",
       "    </tr>\n",
       "    <tr>\n",
       "      <th>PassengerId</th>\n",
       "      <th></th>\n",
       "      <th></th>\n",
       "      <th></th>\n",
       "      <th></th>\n",
       "      <th></th>\n",
       "      <th></th>\n",
       "    </tr>\n",
       "  </thead>\n",
       "  <tbody>\n",
       "    <tr>\n",
       "      <th>892</th>\n",
       "      <td>0.873482</td>\n",
       "      <td>-0.499470</td>\n",
       "      <td>-0.400248</td>\n",
       "      <td>-0.069629</td>\n",
       "      <td>-0.755929</td>\n",
       "      <td>0.755929</td>\n",
       "    </tr>\n",
       "    <tr>\n",
       "      <th>893</th>\n",
       "      <td>0.873482</td>\n",
       "      <td>0.616992</td>\n",
       "      <td>-0.400248</td>\n",
       "      <td>1.462206</td>\n",
       "      <td>1.322876</td>\n",
       "      <td>-1.322876</td>\n",
       "    </tr>\n",
       "    <tr>\n",
       "      <th>894</th>\n",
       "      <td>-0.315819</td>\n",
       "      <td>-0.499470</td>\n",
       "      <td>-0.400248</td>\n",
       "      <td>2.994040</td>\n",
       "      <td>-0.755929</td>\n",
       "      <td>0.755929</td>\n",
       "    </tr>\n",
       "    <tr>\n",
       "      <th>895</th>\n",
       "      <td>0.873482</td>\n",
       "      <td>-0.499470</td>\n",
       "      <td>-0.400248</td>\n",
       "      <td>-0.069629</td>\n",
       "      <td>-0.755929</td>\n",
       "      <td>0.755929</td>\n",
       "    </tr>\n",
       "    <tr>\n",
       "      <th>896</th>\n",
       "      <td>0.873482</td>\n",
       "      <td>0.616992</td>\n",
       "      <td>0.619896</td>\n",
       "      <td>-0.069629</td>\n",
       "      <td>1.322876</td>\n",
       "      <td>-1.322876</td>\n",
       "    </tr>\n",
       "  </tbody>\n",
       "</table>\n",
       "</div>"
      ],
      "text/plain": [
       "               Pclass     SibSp     Parch  Age_group  Sex_female  Sex_male\n",
       "PassengerId                                                               \n",
       "892          0.873482 -0.499470 -0.400248  -0.069629   -0.755929  0.755929\n",
       "893          0.873482  0.616992 -0.400248   1.462206    1.322876 -1.322876\n",
       "894         -0.315819 -0.499470 -0.400248   2.994040   -0.755929  0.755929\n",
       "895          0.873482 -0.499470 -0.400248  -0.069629   -0.755929  0.755929\n",
       "896          0.873482  0.616992  0.619896  -0.069629    1.322876 -1.322876"
      ]
     },
     "execution_count": 5,
     "metadata": {},
     "output_type": "execute_result"
    }
   ],
   "source": [
    "test['Age'] = test['Age'].fillna(round(test['Age'].mean()))\n",
    "test['Age_group'] = pd.cut(test['Age'], bins=[0, 20, 40, 60, 80], labels=[1, 2, 3, 4])\n",
    "test = pd.get_dummies(test, columns=['Sex'])\n",
    "\n",
    "columna_test = ['Name', 'Age', 'Ticket', 'Fare', 'Cabin', 'Embarked']\n",
    "test = test.drop(columns=columna_test)\n",
    "test.set_index('PassengerId', inplace=True)\n",
    "columns_test = test.columns\n",
    "scaler = StandardScaler()\n",
    "test[columns_test] = scaler.fit_transform(test[columns_test])\n",
    "test.head()"
   ]
  },
  {
   "cell_type": "code",
   "execution_count": 6,
   "id": "47d1342c",
   "metadata": {},
   "outputs": [
    {
     "data": {
      "text/plain": [
       "(873, 8)"
      ]
     },
     "execution_count": 6,
     "metadata": {},
     "output_type": "execute_result"
    }
   ],
   "source": [
    "# Se eliminan algunos valores atipicos\n",
    "from sklearn.neighbors import LocalOutlierFactor\n",
    "\n",
    "local = LocalOutlierFactor(contamination = 0.02)\n",
    "\n",
    "out = local.fit_predict(train_1)\n",
    "\n",
    "train_12 = train_1[np.where(out == 1, True, False)]\n",
    "train_12.shape"
   ]
  },
  {
   "cell_type": "code",
   "execution_count": 7,
   "id": "cd96ef68",
   "metadata": {},
   "outputs": [],
   "source": [
    "# Se hace la division entre caracteristicas y etiqueta\n",
    "\n",
    "# Datos de entrenamiento\n",
    "X = train_12.drop(columns='Survived')\n",
    "y = train_12.Survived"
   ]
  },
  {
   "cell_type": "code",
   "execution_count": 8,
   "id": "16e224b0",
   "metadata": {},
   "outputs": [
    {
     "name": "stdout",
     "output_type": "stream",
     "text": [
      "1    537\n",
      "0    537\n",
      "Name: Survived, dtype: int64\n"
     ]
    },
    {
     "data": {
      "image/png": "[encoded data removed]",
      "text/plain": [
       "<Figure size 640x480 with 1 Axes>"
      ]
     },
     "metadata": {},
     "output_type": "display_data"
    }
   ],
   "source": [
    "# Se usa SMOTE para realizar el sobremuestreo para equilibrar \n",
    "from imblearn.over_sampling import SMOTE\n",
    "smote = SMOTE( random_state=42)\n",
    "\n",
    "X_resampled, y_resampled = smote.fit_resample(X, y)\n",
    "print(y_resampled.value_counts())\n",
    "\n",
    "sns.kdeplot(y, label = \"Original\" , color = 'red')\n",
    "sns.kdeplot(y_resampled, label = \"Modified\")\n",
    "X = X_resampled\n",
    "y = y_resampled"
   ]
  },
  {
   "cell_type": "code",
   "execution_count": 9,
   "id": "47c57c0d",
   "metadata": {},
   "outputs": [],
   "source": [
    "# Se transforma PassengerId como indice para el entrenamiento\n",
    "X.set_index('PassengerId', inplace=True)\n",
    "columns = X.columns"
   ]
  },
  {
   "cell_type": "code",
   "execution_count": 10,
   "id": "f64348ac",
   "metadata": {},
   "outputs": [],
   "source": [
    "# Se escalan los datos de entrenamiento y se preparan para que los modelos de ML los reciban\n",
    "\n",
    "# Datos de entrenamiento\n",
    "scaler = StandardScaler()\n",
    "X[columns] = scaler.fit_transform(X[columns])\n",
    "y = np.ravel(y)"
   ]
  },
  {
   "cell_type": "code",
   "execution_count": 11,
   "id": "e558e1a0",
   "metadata": {},
   "outputs": [
    {
     "name": "stdout",
     "output_type": "stream",
     "text": [
      "Logistic Regression Cross validation: 0.8101151923494893\n",
      "SVM Cross validation: 0.8296326885459683\n",
      "Random Forest Cross validation: 0.8156574657683112\n",
      "Stochastic Gradient Cross validation: 0.7858204738100414\n",
      "Xgboost Train Set Accuracy: 0.826842\n"
     ]
    }
   ],
   "source": [
    "#Escogemos 5 modelos (Logistic Regression, SVC, Random Forest Classifier, Stochastic Gradient y Xgboost)\n",
    "#los ajustamos y se observa el accuracy de entrenamiento para tener una base\n",
    "\n",
    "models = {\"Logistic Regression\": LogisticRegression(), \"SVM\": SVC(), \n",
    "          \"Random Forest\": RandomForestClassifier(), \"Stochastic Gradient\": SGDClassifier(random_state=12)}\n",
    "for name, model in models.items():\n",
    "    kf = KFold(n_splits=5, random_state=42, shuffle=True)\n",
    "    cv = cross_val_score(model, X, y, cv=kf, scoring='accuracy')\n",
    "    print(\"{} Cross validation: {}\".format(name, cv.mean()))\n",
    "    \n",
    "churn_dmatrix = xgb.DMatrix(X, y)\n",
    "params = {\"objective\": \"binary:logistic\", \"max_depth\":4}\n",
    "cv_results = xgb.cv(dtrain=churn_dmatrix, params=params, nfold=5, num_boost_round=10, metrics=\"error\", as_pandas=True, seed=42)\n",
    "print(\"Xgboost Train Set Accuracy: %f\" %((1-cv_results[\"test-error-mean\"]).iloc[-1]))"
   ]
  },
  {
   "cell_type": "markdown",
   "id": "08960c74",
   "metadata": {},
   "source": [
    "### Ajuste de Hiperparametros\n",
    "#### Se usa la libreria hyperopt para ajustar los hiperparametros de cada modelo"
   ]
  },
  {
   "cell_type": "code",
   "execution_count": 12,
   "id": "32b76491",
   "metadata": {},
   "outputs": [
    {
     "name": "stdout",
     "output_type": "stream",
     "text": [
      "100%|███████████████████████████████████████████████████████████████████████████████████████████████████████████████████████████████████████████████████████████████████| 500/500 [00:16<00:00, 30.55trial/s, best loss: -0.808259074114323]\n",
      "Mejores hiperparámetros encontrados:\n",
      "{'C': 0.002335098082717584, 'penalty': 0, 'solver': 0}\n"
     ]
    }
   ],
   "source": [
    "# Logistic Regression\n",
    "space= {'C': hp.loguniform('C', np.log(0.001), np.log(100)),\n",
    "        'penalty': hp.choice('penalty', ['l2']),\n",
    "          'solver': hp.choice('solver', ['lbfgs', 'liblinear', 'saga'])}\n",
    "\n",
    "def objective(params):\n",
    "    params = {'C': params['C'], 'penalty': params['penalty'], 'solver': params['solver']}\n",
    "    lr_clf = LogisticRegression(random_state=42, max_iter=1000, **params)\n",
    "    score = cross_val_score(lr_clf, X, y, cv=5, scoring='accuracy', n_jobs=-1).mean()\n",
    "    return -score\n",
    "\n",
    "best = fmin(fn=objective, space=space, max_evals=500, rstate=np.random.default_rng(42), algo=tpe.suggest)\n",
    "\n",
    "print('Mejores hiperparámetros encontrados:')\n",
    "print(best)"
   ]
  },
  {
   "cell_type": "code",
   "execution_count": 13,
   "id": "ae964ab1",
   "metadata": {},
   "outputs": [
    {
     "name": "stdout",
     "output_type": "stream",
     "text": [
      "100%|██████████████████████████████████████████████████████████████████████████████████████████████████████████████████████████████████████████████████████████████████| 500/500 [00:37<00:00, 13.21trial/s, best loss: -0.8324668550315149]\n",
      "Mejores hiperparámetros encontrados:\n",
      "{'C': 0.3206672236646401, 'kernel': 2}\n"
     ]
    }
   ],
   "source": [
    "# SVM\n",
    "space_svc = {'C': hp.loguniform('C', np.log(0.001), np.log(1000)),\n",
    "             'kernel': hp.choice('kernel', ['linear', 'poly', 'rbf', 'sigmoid'])}\n",
    "\n",
    "def objective_svc(params_svc):\n",
    "    params_svc = {'C': params_svc['C'], 'kernel': params_svc['kernel']}\n",
    "    svc_clf = SVC(random_state=42, max_iter=1000, **params_svc)\n",
    "    score_svc = cross_val_score(svc_clf, X, y, cv=5, scoring='accuracy', n_jobs=-1).mean()\n",
    "    return -score_svc\n",
    "\n",
    "best_svc = fmin(fn=objective_svc, space=space_svc, max_evals=500, rstate=np.random.default_rng(42), algo=tpe.suggest)\n",
    "print('Mejores hiperparámetros encontrados:')\n",
    "print(best_svc)"
   ]
  },
  {
   "cell_type": "code",
   "execution_count": 14,
   "id": "74e78e8b",
   "metadata": {},
   "outputs": [
    {
     "name": "stdout",
     "output_type": "stream",
     "text": [
      "100%|██████████████████████████████████████████████████████████████████████████████████████████████████████████████████████████████████████████████████████████████████| 100/100 [01:01<00:00,  1.64trial/s, best loss: -0.8278113453597044]\n",
      "Mejores hiperparámetros encontrados:\n",
      "{'max_depth': 12.0, 'max_features': 2, 'min_samples_leaf': 14.0, 'min_samples_split': 8.0, 'n_estimators': 80.0}\n"
     ]
    }
   ],
   "source": [
    "#Random Forest Classifier\n",
    "space_rf= {'n_estimators': hp.quniform('n_estimators', 10, 500, 10),\n",
    "        'max_depth': hp.quniform('max_depth', 1, 20, 2),\n",
    "        'min_samples_leaf': hp.quniform('min_samples_leaf', 1, 20, 2),\n",
    "        'min_samples_split': hp.quniform('min_samples_split', 2, 20, 2), \n",
    "         'max_features': hp.choice('max_features', ['log2', 'sqrt', 'auto'])}\n",
    "\n",
    "def objective_rf(params_rf):\n",
    "    params_rf = {'n_estimators': int(params_rf['n_estimators']), 'max_depth': int(params_rf['max_depth']), \n",
    "                 'min_samples_leaf': int(params_rf['min_samples_leaf']), \n",
    "                 'min_samples_split': int(params_rf['min_samples_split']), 'max_features': params_rf['max_features']}\n",
    "    rf_clf = RandomForestClassifier(random_state=42, **params_rf)\n",
    "    score_rf = cross_val_score(rf_clf, X, y, cv=5, scoring='accuracy', n_jobs=-1).mean()\n",
    "    return -score_rf\n",
    "\n",
    "best_rf = fmin(fn=objective_rf, space=space_rf, max_evals=100, rstate=np.random.default_rng(42), algo=tpe.suggest)\n",
    "\n",
    "print('Mejores hiperparámetros encontrados:')\n",
    "print(best_rf)"
   ]
  },
  {
   "cell_type": "code",
   "execution_count": 15,
   "id": "4ca88c02",
   "metadata": {},
   "outputs": [
    {
     "name": "stdout",
     "output_type": "stream",
     "text": [
      "100%|██████████████████████████████████████████████████████████████████████████████████████████████████████████████████████████████████████████████████████████████████| 500/500 [00:12<00:00, 41.05trial/s, best loss: -0.8157096283416649]\n",
      "Mejores hiperparámetros encontrados:\n",
      "{'alpha': 0.6201569857768734, 'tol': 0.0008138417522326476}\n"
     ]
    }
   ],
   "source": [
    "# Stochastic Gradient\n",
    "space_sgd= {'alpha': hp.uniform('alpha', 0.0001, 1),\n",
    "        'tol': hp.uniform('tol', 0.000001, 0.001)}\n",
    "\n",
    "def objective_sgd(params_sgd):\n",
    "    params_sgd = {'alpha': params_sgd['alpha'], 'tol': params_sgd['tol']}\n",
    "    sgd_clf = SGDClassifier(random_state=42, **params_sgd, max_iter=1000, learning_rate='optimal', \n",
    "                                    loss='modified_huber')\n",
    "    score_sgd = cross_val_score(sgd_clf, X, y, cv=5, scoring='accuracy', n_jobs=-1).mean()\n",
    "    return -score_sgd\n",
    "\n",
    "best_sgd = fmin(fn=objective_sgd, space=space_sgd, max_evals=500, rstate=np.random.default_rng(42), algo=tpe.suggest)\n",
    "\n",
    "print('Mejores hiperparámetros encontrados:')\n",
    "print(best_sgd)"
   ]
  },
  {
   "cell_type": "code",
   "execution_count": 16,
   "id": "d8802573",
   "metadata": {},
   "outputs": [
    {
     "name": "stdout",
     "output_type": "stream",
     "text": [
      "100%|██████████████████████████████████████████████████████████████████████████████████████████████████████████████████████████████████████████████████████████████████| 500/500 [01:42<00:00,  4.87trial/s, best loss: -0.8352575527059335]\n",
      "Mejores hiperparámetros encontrados:\n",
      "{'colsample_bytree': 0.3337030421688588, 'learning_rate': 0.32876868907971485, 'max_depth': 10.0, 'n_estimators': 420.0, 'reg_alpha': 1.0, 'reg_lambda': 4.0, 'subsample': 0.17930031108822564}\n"
     ]
    }
   ],
   "source": [
    "# XGBoosting\n",
    "\n",
    "housing_dmatrix = xgb.DMatrix(data=X,label=y)\n",
    "\n",
    "space_xgb = {'learning_rate': hp.uniform('learning_rate', 0.001, 1), \n",
    "             'max_depth': hp.quniform('max_depth', 2, 10, 1), 'n_estimators': hp.quniform('n_estimators', 10, 500, 20), \n",
    "              'subsample': hp.loguniform('subsample', np.log(0.1), np.log(1)),  \n",
    "              'colsample_bytree': hp.loguniform('colsample_bytree', np.log(0.1), np.log(1)),\n",
    "              'reg_alpha': hp.quniform('reg_alpha', 0, 10, 1), 'reg_lambda': hp.quniform('reg_lambda', 0, 10, 1)}\n",
    "\n",
    "def objective_xgb (params_xgb):\n",
    "    params_xgb = {'learning_rate': params_xgb['learning_rate'], 'max_depth': int(params_xgb['max_depth']),\n",
    "                   'n_estimators': int(params_xgb['n_estimators']), 'subsample': params_xgb['subsample'],\n",
    "                   'colsample_bytree': params_xgb['colsample_bytree'], 'reg_alpha': params_xgb['reg_alpha'],\n",
    "                    'reg_lambda': params_xgb['reg_lambda']}\n",
    "    xgb_clf = xgb.XGBClassifier(random_state=42, **params_xgb)\n",
    "    score_xgb = cross_val_score(xgb_clf, X, y, cv=5, scoring='accuracy', n_jobs=-1).mean()\n",
    "    return -score_xgb\n",
    "\n",
    "best_xgb = fmin(fn=objective_xgb, space=space_xgb, max_evals=500, rstate=np.random.default_rng(42), algo=tpe.suggest)\n",
    "\n",
    "print('Mejores hiperparámetros encontrados:')\n",
    "print(best_xgb)\n"
   ]
  },
  {
   "cell_type": "markdown",
   "id": "10f46046",
   "metadata": {},
   "source": [
    "### Se toman los hiperparametros hallados y se usan en cada modelo"
   ]
  },
  {
   "cell_type": "code",
   "execution_count": 17,
   "id": "661a8d0c",
   "metadata": {},
   "outputs": [
    {
     "name": "stdout",
     "output_type": "stream",
     "text": [
      "Train set accuracy: 0.8081936685288641\n"
     ]
    }
   ],
   "source": [
    "# Logistic Regression\n",
    "#Opciones de ajuste\n",
    "penalty_options = ['l2']\n",
    "solver_options = ['lbfgs', 'liblinear', 'saga']\n",
    "\n",
    "\n",
    "C_log = best['C']\n",
    "penalty_log = penalty_options[best['penalty']]\n",
    "solver_log = solver_options[best['solver']]\n",
    "\n",
    "logreg = LogisticRegression(C= C_log, random_state=42, penalty=penalty_log, solver=solver_log, max_iter=1000)\n",
    "logreg.fit(X, y)\n",
    "train_score = logreg.score(X, y)\n",
    "print('Train set accuracy:', train_score)"
   ]
  },
  {
   "cell_type": "code",
   "execution_count": 18,
   "id": "4effe6eb",
   "metadata": {},
   "outputs": [
    {
     "name": "stdout",
     "output_type": "stream",
     "text": [
      "Train set accuracy: 0.8389199255121043\n"
     ]
    }
   ],
   "source": [
    "# SVC\n",
    "#opciones de ajuste\n",
    "kernel_options = ['linear', 'poly', 'rbf', 'sigmoid']\n",
    "\n",
    "C_svc = best_svc['C']\n",
    "kernel_svc = kernel_options[best_svc['kernel']]\n",
    "\n",
    "\n",
    "svm = SVC(C=C_svc, random_state=42, kernel=kernel_svc)\n",
    "svm.fit(X, y)\n",
    "score_svm = svm.score(X, y)\n",
    "print('Train set accuracy:', score_svm)"
   ]
  },
  {
   "cell_type": "code",
   "execution_count": 19,
   "id": "71878f2d",
   "metadata": {},
   "outputs": [
    {
     "name": "stdout",
     "output_type": "stream",
     "text": [
      "Train set accuracy: 0.8333333333333334\n"
     ]
    }
   ],
   "source": [
    "# Random Forest Classifier\n",
    "#opciones de ajuste\n",
    "max_features_options = ['log2', 'sqrt', 'auto']\n",
    "\n",
    "\n",
    "max_depth_rf = best_rf['max_depth']\n",
    "min_samples_leaf_rf = int(best_rf['min_samples_leaf'])\n",
    "min_samples_split_rf = int(best_rf['min_samples_split'])\n",
    "n_estimators_rf = int(best_rf['n_estimators'])\n",
    "max_features_rf = max_features_options[best_rf['max_features']]\n",
    "\n",
    "rf = RandomForestClassifier(max_depth=max_depth_rf, min_samples_leaf=min_samples_leaf_rf, \n",
    "                             min_samples_split=min_samples_split_rf, n_estimators=n_estimators_rf, \n",
    "                            random_state=42, max_features=max_features_rf)\n",
    "rf.fit(X, y)\n",
    "score_rf = rf.score(X, y)\n",
    "print('Train set accuracy:', score_rf)"
   ]
  },
  {
   "cell_type": "code",
   "execution_count": 20,
   "id": "1691656c",
   "metadata": {},
   "outputs": [
    {
     "name": "stdout",
     "output_type": "stream",
     "text": [
      "Train set accuracy: 0.8156424581005587\n"
     ]
    }
   ],
   "source": [
    "# Stochastic Gradient\n",
    "sgd_ = SGDClassifier(**best_sgd, random_state=42, max_iter=1000, learning_rate='optimal', loss='modified_huber')\n",
    "sgd_.fit(X, y)\n",
    "score_sgd_ = sgd_.score(X, y)\n",
    "print('Train set accuracy:', score_sgd_)"
   ]
  },
  {
   "cell_type": "code",
   "execution_count": 21,
   "id": "16f46f7c",
   "metadata": {},
   "outputs": [
    {
     "name": "stdout",
     "output_type": "stream",
     "text": [
      "Train set accuracy: 0.8389199255121043\n"
     ]
    }
   ],
   "source": [
    "# XGBoosting\n",
    "#opciones de ajuste\n",
    "colsample_bytree = best_xgb['colsample_bytree']\n",
    "learning_rate = best_xgb['learning_rate']\n",
    "max_depth = int(best_xgb['max_depth'])\n",
    "n_estimators = int(best_xgb['n_estimators'])\n",
    "reg_alpha = best_xgb['reg_alpha']\n",
    "reg_lambda = best_xgb['reg_lambda']\n",
    "subsample = best_xgb['subsample']\n",
    "\n",
    "xgb = xgb.XGBClassifier(random_state=42, colsample_bytree=colsample_bytree, learning_rate=learning_rate,  max_depth=max_depth,\n",
    "                        n_estimators=n_estimators, reg_alpha=reg_alpha, reg_lambda=reg_lambda, subsample=subsample)\n",
    "xgb.fit(X, y)\n",
    "score_xgb = xgb.score(X, y)\n",
    "print('Train set accuracy:', score_xgb)\n"
   ]
  },
  {
   "cell_type": "markdown",
   "id": "1046a750",
   "metadata": {},
   "source": [
    "### Se usa el modelo de ensamble Voting Classifier para tener mejores predicciones."
   ]
  },
  {
   "cell_type": "code",
   "execution_count": 22,
   "id": "472289e1",
   "metadata": {},
   "outputs": [
    {
     "name": "stdout",
     "output_type": "stream",
     "text": [
      "Cross validation: [0.78604651 0.82325581 0.75813953 0.90232558 0.89719626]\n",
      "Cross validation mean: 0.8333927407085415\n",
      "La precisión (accuracy) del entrenamiento es: 83.43%\n"
     ]
    }
   ],
   "source": [
    "classifiers=[('Logistic Regression', logreg), ('Support Vector', svm), ('Random Forest', rf), ('stocastic', sgd_), \n",
    "              ('XGBoost', xgb)]\n",
    "voting_clf = VotingClassifier(estimators=classifiers)\n",
    "cv= cross_val_score(voting_clf, X, y, cv=5,  n_jobs=-1)\n",
    "print('Cross validation:', cv)\n",
    "print('Cross validation mean:', cv.mean())\n",
    "voting_clf.fit(X, y)\n",
    "accuracy_train = voting_clf.score(X, y)\n",
    "print(\"La precisión (accuracy) del entrenamiento es: {:.2f}%\".format(accuracy_train * 100))"
   ]
  },
  {
   "cell_type": "code",
   "execution_count": 23,
   "id": "7f692549",
   "metadata": {},
   "outputs": [],
   "source": [
    "# Se hace un archivo con las predicciones para pasarlo a la plataforma Kaggle\n",
    "preds = voting_clf.predict(test)\n",
    "rta = pd.DataFrame({'PassengerId': test.index, 'Survived': preds})\n",
    "rta.to_csv('best_rep.csv', index=False)"
   ]
  },
  {
   "cell_type": "markdown",
   "id": "aae893c0",
   "metadata": {},
   "source": [
    "## Accuracy = 0.78468"
   ]
  },
  {
   "cell_type": "code",
   "execution_count": null,
   "id": "d44c41e9",
   "metadata": {},
   "outputs": [],
   "source": []
  }
 ],
 "metadata": {
  "kernelspec": {
   "display_name": "Python 3 (ipykernel)",
   "language": "python",
   "name": "python3"
  },
  "language_info": {
   "codemirror_mode": {
    "name": "ipython",
    "version": 3
   },
   "file_extension": ".py",
   "mimetype": "text/x-python",
   "name": "python",
   "nbconvert_exporter": "python",
   "pygments_lexer": "ipython3",
   "version": "3.9.13"
  }
 },
 "nbformat": 4,
 "nbformat_minor": 5
}
